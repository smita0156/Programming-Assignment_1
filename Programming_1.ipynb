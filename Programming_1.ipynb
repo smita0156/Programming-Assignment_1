{
 "cells": [
  {
   "cell_type": "code",
   "execution_count": null,
   "id": "d379ee68-466f-420c-88e8-9187005fae4d",
   "metadata": {},
   "outputs": [],
   "source": [
    "1. Write a Python program to print &quot;Hello Python&quot;?"
   ]
  },
  {
   "cell_type": "code",
   "execution_count": 1,
   "id": "fb894cbe-eb4c-44ee-9788-c7fc6bdf6a71",
   "metadata": {},
   "outputs": [
    {
     "name": "stdout",
     "output_type": "stream",
     "text": [
      "Hello Python\n"
     ]
    }
   ],
   "source": [
    "#Answer 1\n",
    "\n",
    "print(\"Hello Python\")"
   ]
  },
  {
   "cell_type": "code",
   "execution_count": null,
   "id": "ca7f2a34-3387-40b6-bb5a-01eb6082da87",
   "metadata": {},
   "outputs": [],
   "source": [
    "2. Write a Python program to do arithmetical operations addition and division.?"
   ]
  },
  {
   "cell_type": "code",
   "execution_count": 3,
   "id": "bd4d1a94-ca9b-4df9-9dde-d4269f288962",
   "metadata": {},
   "outputs": [],
   "source": [
    "#Answer 2\n",
    "def add(a,b):\n",
    "    return a+b\n",
    "\n",
    "def divide(a,b):\n",
    "    return a/b"
   ]
  },
  {
   "cell_type": "code",
   "execution_count": 4,
   "id": "485cccea-6f07-4cd8-aa41-ad57befcfe4e",
   "metadata": {},
   "outputs": [
    {
     "data": {
      "text/plain": [
       "8"
      ]
     },
     "execution_count": 4,
     "metadata": {},
     "output_type": "execute_result"
    }
   ],
   "source": [
    "add(3,5)"
   ]
  },
  {
   "cell_type": "code",
   "execution_count": 5,
   "id": "65e93bb3-b369-44e8-89de-5008749e9d00",
   "metadata": {},
   "outputs": [
    {
     "data": {
      "text/plain": [
       "0.8"
      ]
     },
     "execution_count": 5,
     "metadata": {},
     "output_type": "execute_result"
    }
   ],
   "source": [
    "divide(4,5)"
   ]
  },
  {
   "cell_type": "code",
   "execution_count": null,
   "id": "9cbdd400-26d9-4356-bf73-a9283cb3afca",
   "metadata": {},
   "outputs": [],
   "source": [
    "3. Write a Python program to find the area of a triangle?"
   ]
  },
  {
   "cell_type": "code",
   "execution_count": 6,
   "id": "142bb32b-ec19-43d6-8066-7fc38e960959",
   "metadata": {},
   "outputs": [
    {
     "name": "stdin",
     "output_type": "stream",
     "text": [
      "Enter the base of Triangle = 4\n",
      "Enter the height of Triangle =  5\n"
     ]
    },
    {
     "name": "stdout",
     "output_type": "stream",
     "text": [
      "The Area of Triangle of Base 4 , Height 5 is 10.0\n"
     ]
    }
   ],
   "source": [
    "#Answer 3\n",
    "base = int(input(\"Enter the base of Triangle =\"))\n",
    "Height = int(input(\"Enter the height of Triangle = \"))\n",
    "Area = (Height*base)/2\n",
    "print(\"The Area of Triangle of Base {} , Height {} is {}\".format(base , Height , Area))"
   ]
  },
  {
   "cell_type": "code",
   "execution_count": null,
   "id": "dff837a5-5a38-466f-ad31-dde41e2f9faa",
   "metadata": {},
   "outputs": [],
   "source": [
    "4. Write a Python program to swap two variables?"
   ]
  },
  {
   "cell_type": "code",
   "execution_count": 8,
   "id": "e9707789-d5ff-4d42-8028-e9dbdd611709",
   "metadata": {},
   "outputs": [
    {
     "name": "stdin",
     "output_type": "stream",
     "text": [
      "First Variable = 6\n",
      "Second Variable = 8\n"
     ]
    },
    {
     "name": "stdout",
     "output_type": "stream",
     "text": [
      "First Variable Before swap  : 6 \n",
      " Second variable Before Swap  : 8\n",
      "After Swap : \n",
      " First Variabe : 8 \n",
      "  Second Variable : 6\n"
     ]
    }
   ],
   "source": [
    "#Answer 4\n",
    "first_variable = int(input(\"First Variable =\"))\n",
    "second_variable = int(input(\"Second Variable =\"))\n",
    "print(\"First Variable Before swap  : {} \\n Second variable Before Swap  : {}\".format(first_variable,second_variable))\n",
    "first_variable , second_variable = second_variable , first_variable\n",
    "\n",
    "print(\"After Swap : \\n First Variabe : {} \\n  Second Variable : {}\".format(first_variable , second_variable))"
   ]
  },
  {
   "cell_type": "code",
   "execution_count": null,
   "id": "63c65d08-a2e0-4a9a-8b47-ca93976e6a8e",
   "metadata": {},
   "outputs": [],
   "source": [
    "5. Write a Python program to generate a random number?"
   ]
  },
  {
   "cell_type": "code",
   "execution_count": 9,
   "id": "0836ebfb-4fca-4b87-81df-6b1719b17c0a",
   "metadata": {},
   "outputs": [
    {
     "name": "stdout",
     "output_type": "stream",
     "text": [
      "6\n"
     ]
    }
   ],
   "source": [
    "#Answer 5\n",
    "import random\n",
    "print(random.randint(0,6))"
   ]
  }
 ],
 "metadata": {
  "kernelspec": {
   "display_name": "Python 3 (ipykernel)",
   "language": "python",
   "name": "python3"
  },
  "language_info": {
   "codemirror_mode": {
    "name": "ipython",
    "version": 3
   },
   "file_extension": ".py",
   "mimetype": "text/x-python",
   "name": "python",
   "nbconvert_exporter": "python",
   "pygments_lexer": "ipython3",
   "version": "3.10.6"
  }
 },
 "nbformat": 4,
 "nbformat_minor": 5
}
